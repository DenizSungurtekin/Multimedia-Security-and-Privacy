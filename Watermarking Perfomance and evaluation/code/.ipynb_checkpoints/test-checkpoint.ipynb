{
 "cells": [
  {
   "cell_type": "code",
   "execution_count": 1,
   "metadata": {},
   "outputs": [],
   "source": [
    "import numpy as np\n",
    "import matplotlib.pyplot as plt\n",
    "import cv2\n",
    "import skimage\n",
    "from skimage.measure import block_reduce\n",
    "from skimage.util import view_as_windows\n",
    "import random\n",
    "import copy\n",
    "\n",
    "# Exercice 1\n",
    "\n",
    "x = cv2.imread(\"liftingbody.png\",0) #Read image without colors\n",
    "x = cv2.normalize(x.astype('float'), None, 0.0, 1.0, cv2.NORM_MINMAX) #Convert datatype to add noise easily\n",
    "\n",
    "N_1,N_2 = x.shape\n",
    "\n",
    "def generateMatrixUniform(lower,upper,N_1,N_2):\n",
    "    return np.asarray([[random.choice([lower,upper])for j in range(N_2)] for i in range(N_1) ])\n",
    "\n",
    "def generateGaussianNoise(mean,std,N,M): #Generate a Gaussian Noise array NxM\n",
    "    return np.asarray([np.random.normal(mean,std,M) for i in range(N)])\n"
   ]
  },
  {
   "cell_type": "code",
   "execution_count": 2,
   "metadata": {},
   "outputs": [],
   "source": [
    "def genera\n",
    "w = generateMatrixUniform(-1,1,N_1,N_2)\n",
    "\n",
    "density = 0.5\n",
    "#Set to 0 half of the pixels randomly to have a 0.5 density\n",
    "iteration = int((N_1*N_2)* density) # Lenght of the watermarking\n",
    "tabu = []\n",
    "while(iteration > 0):\n",
    "    index1 = random.randint(0, N_1-1)\n",
    "    index2 = random.randint(0, N_2-1)\n",
    "    if (index1,index2) not in tabu:\n",
    "        w[index1][index2] = 0\n",
    "        tabu.append((index1,index2))\n",
    "        iteration -= 1"
   ]
  },
  {
   "cell_type": "code",
   "execution_count": 3,
   "metadata": {},
   "outputs": [
    {
     "name": "stdout",
     "output_type": "stream",
     "text": [
      "x:  [[154. 153. 155. ... 157. 157. 163.]\n",
      " [156. 156. 157. ... 156. 157. 155.]\n",
      " [156. 159. 160. ... 158. 160. 159.]\n",
      " ...\n",
      " [148. 145. 148. ...  89.  87.  90.]\n",
      " [148. 152. 147. ...  87.  90.  93.]\n",
      " [147. 146. 149. ...  83.  87.  90.]]\n",
      "w:  [[ 0  0  0 ... -1  0  0]\n",
      " [-1 -1  0 ...  0  1  0]\n",
      " [ 0  0  1 ...  0 -1  0]\n",
      " ...\n",
      " [ 0  1  1 ...  1 -1  0]\n",
      " [ 0 -1 -1 ...  0  0 -1]\n",
      " [ 0  0  1 ...  0  0  0]]\n",
      "y:  [[154. 153. 155. ... 156. 157. 163.]\n",
      " [155. 155. 157. ... 156. 158. 155.]\n",
      " [156. 159. 161. ... 158. 159. 159.]\n",
      " ...\n",
      " [148. 146. 149. ...  90.  86.  90.]\n",
      " [148. 151. 146. ...  87.  90.  92.]\n",
      " [147. 146. 150. ...  83.  87.  90.]]\n",
      "v:  [[154.77271648 153.55583911 156.03584367 ... 155.84127931 156.69304349\n",
      "  164.03568023]\n",
      " [153.79798653 155.61497    156.29621114 ... 156.96337174 157.31606923\n",
      "  155.66811721]\n",
      " [154.28839087 159.37278541 160.71582208 ... 157.94326916 158.13222606\n",
      "  159.51411262]\n",
      " ...\n",
      " [148.77407089 145.47608279 148.8026593  ...  89.26250341  85.9014306\n",
      "   88.56609161]\n",
      " [147.97139745 151.37560844 145.7432912  ...  86.3126806   90.10020847\n",
      "   90.49538488]\n",
      " [148.33340047 146.35371422 149.27654446 ...  84.04950242  86.00935492\n",
      "   90.43287503]]\n",
      "z:  [[ 0.77271648  0.55583911  1.03584367 ... -0.15872069 -0.30695651\n",
      "   1.03568023]\n",
      " [-1.20201347  0.61497    -0.70378886 ...  0.96337174 -0.68393077\n",
      "   0.66811721]\n",
      " [-1.71160913  0.37278541 -0.28417792 ... -0.05673084 -0.86777394\n",
      "   0.51411262]\n",
      " ...\n",
      " [ 0.77407089 -0.52391721 -0.1973407  ... -0.73749659 -0.0985694\n",
      "  -1.43390839]\n",
      " [-0.02860255  0.37560844 -0.2567088  ... -0.6873194   0.10020847\n",
      "  -1.50461512]\n",
      " [ 1.33340047  0.35371422 -0.72345554 ...  1.04950242 -0.99064508\n",
      "   0.43287503]]\n"
     ]
    }
   ],
   "source": [
    "\n",
    "x = cv2.normalize(x.astype('float'), None, 0.0, 255.0, cv2.NORM_MINMAX)\n",
    "\n",
    "# Adding noise after changing range to 0 to 255\n",
    "\n",
    "u = 0\n",
    "sigma = 1\n",
    "z = generateGaussianNoise(u,sigma,N_1,N_2)\n",
    "\n",
    "y = x + w\n",
    "\n",
    "v = z + y\n",
    "\n",
    "print(\"x: \",x)\n",
    "print(\"w: \",w)\n",
    "print(\"y: \",y)\n",
    "print(\"v: \",v)\n",
    "print(\"z: \",z)"
   ]
  },
  {
   "cell_type": "code",
   "execution_count": 4,
   "metadata": {},
   "outputs": [],
   "source": [
    "##Exercice 2.1\n",
    "\n",
    "#Extract\n",
    "\n",
    "w_non_blind = v - x\n",
    "\n",
    "#Linear correlation computation beteen w and w_non_blind, only on point which weren't set to 0 in w.\n",
    "\n",
    "def linearCorrelation(original,estimation,density,tabu):\n",
    "    row,col = original.shape\n",
    "    N = int((row*col)* density)\n",
    "    \n",
    "    correlation = [estimation[i][j] * original[i][j] for j in range(col) for i in range(row) if (i,j) not in tabu ] \n",
    "    \n",
    "    return sum(correlation)/N\n",
    "\n",
    "linear_corr = linearCorrelation(w,w_non_blind,density,tabu)\n"
   ]
  },
  {
   "cell_type": "code",
   "execution_count": 5,
   "metadata": {},
   "outputs": [
    {
     "name": "stdout",
     "output_type": "stream",
     "text": [
      "(514, 514)\n",
      "[[154.77271648 153.55583911 156.03584367 ... 164.03568023   0.\n",
      "    0.        ]\n",
      " [153.79798653 155.61497    156.29621114 ... 155.66811721   0.\n",
      "    0.        ]\n",
      " [154.28839087 159.37278541 160.71582208 ... 159.51411262   0.\n",
      "    0.        ]\n",
      " ...\n",
      " [148.33340047 146.35371422 149.27654446 ...  90.43287503   0.\n",
      "    0.        ]\n",
      " [  0.           0.           0.         ...   0.           0.\n",
      "    0.        ]\n",
      " [  0.           0.           0.         ...   0.           0.\n",
      "    0.        ]]\n"
     ]
    }
   ],
   "source": [
    "#padding 0 to have exactly the same size when doing overlapping blocks mean\n",
    "\n",
    "v_pad = np.zeros((514, 514))\n",
    "shape = v.shape\n",
    "v_pad[:shape[0],:shape[1]] = v\n",
    "print(v_pad.shape)\n",
    "print(v_pad)"
   ]
  },
  {
   "cell_type": "code",
   "execution_count": 6,
   "metadata": {},
   "outputs": [],
   "source": [
    "## Exercice 3\n",
    "\n",
    "window_shape = (3,3)\n",
    "B = view_as_windows(v_pad,window_shape)\n",
    "v_average = np.asarray([ [np.mean(B[i,j]) for j in range(len(B[0]))] for i in range(len(B))])"
   ]
  },
  {
   "cell_type": "code",
   "execution_count": 7,
   "metadata": {},
   "outputs": [
    {
     "name": "stdout",
     "output_type": "stream",
     "text": [
      "v_ave:  [[156.05006281 156.2107923  155.01998401 ... 158.01190767 105.70658321\n",
      "   53.24643445]\n",
      " [157.71318077 157.94384577 156.42315124 ... 157.21466256 104.69203103\n",
      "   52.35210976]\n",
      " [159.27213142 159.36034779 158.00939448 ... 156.79725363 104.83855068\n",
      "   52.42280341]\n",
      " ...\n",
      " [148.01186325 147.23902906 145.44215771 ...  87.90333688  59.0561495\n",
      "   29.94381684]\n",
      " [ 98.78377292  98.41294067  96.39210053 ...  58.6000007   39.67086926\n",
      "   20.10313999]\n",
      " [ 49.32929546  48.97693073  47.88321699 ...  28.94352582  19.60469222\n",
      "   10.04809723]]\n",
      "v_ave size:  (512, 512)\n"
     ]
    }
   ],
   "source": [
    "print(\"v_ave: \",v_average)\n",
    "print(\"v_ave size: \",v_average.shape)\n",
    "\n",
    "# v = x + w + z\n",
    "# The bigger is the window size the best is the estimation of host image because the gaussian noise has a 0 mean so if we take a big sample the mean value will be 0. So when we take a bigger windows size this noise will be removed\n",
    "# Same reasoning with w which is -1 or 1 with uniform distribution so we obtain a 0 mean value."
   ]
  },
  {
   "cell_type": "code",
   "execution_count": 8,
   "metadata": {},
   "outputs": [],
   "source": [
    "w_blind = v - v_average\n",
    "linear_corr_blind = linearCorrelation(w,w_blind,density,tabu)"
   ]
  },
  {
   "cell_type": "code",
   "execution_count": 14,
   "metadata": {},
   "outputs": [
    {
     "data": {
      "text/plain": [
       "-1"
      ]
     },
     "execution_count": 14,
     "metadata": {},
     "output_type": "execute_result"
    }
   ],
   "source": [
    "# Put the image in double format and changing range to display them correctly with cv2\n",
    "# Doing it after the linear correlation to minimize loss of information by the rounding operation.\n",
    "\n",
    "x = cv2.normalize(x.astype('float'), None, 0.0, 1.0, cv2.NORM_MINMAX)\n",
    "y = cv2.normalize(y.astype('float'), None, 0.0, 1.0, cv2.NORM_MINMAX)\n",
    "v = cv2.normalize(v.astype('float'), None, 0.0, 1.0, cv2.NORM_MINMAX)\n",
    "\n",
    "# Show orinal image, waterwarked image and attacked watermarked image\n",
    "\n",
    "numpy_horizontal = np.hstack((x,np.hstack((y, v))))\n",
    "\n",
    "window2 = 'Orignal vs Watermarked image vs Attacked image'\n",
    "cv2.imshow(window2,numpy_horizontal) # Show image\n",
    "cv2.waitKey(0)"
   ]
  },
  {
   "cell_type": "code",
   "execution_count": 11,
   "metadata": {},
   "outputs": [
    {
     "name": "stdout",
     "output_type": "stream",
     "text": [
      "0.9995208205997793\n",
      "0.8567045950829456\n"
     ]
    }
   ],
   "source": [
    "print(linear_corr)\n",
    "print(linear_corr_blind)"
   ]
  }
 ],
 "metadata": {
  "kernelspec": {
   "display_name": "Python 3",
   "language": "python",
   "name": "python3"
  },
  "language_info": {
   "codemirror_mode": {
    "name": "ipython",
    "version": 3
   },
   "file_extension": ".py",
   "mimetype": "text/x-python",
   "name": "python",
   "nbconvert_exporter": "python",
   "pygments_lexer": "ipython3",
   "version": "3.8.2"
  }
 },
 "nbformat": 4,
 "nbformat_minor": 4
}
